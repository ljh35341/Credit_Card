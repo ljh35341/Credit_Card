{
 "cells": [
  {
   "cell_type": "code",
   "execution_count": 1,
   "metadata": {},
   "outputs": [],
   "source": [
    "import pandas as pd\n",
    "import numpy as np\n",
    "\n",
    "# visualization\n",
    "import matplotlib.pyplot as plt\n",
    "import seaborn as sns\n",
    "%matplotlib inline"
   ]
  },
  {
   "cell_type": "code",
   "execution_count": 2,
   "metadata": {
    "scrolled": false
   },
   "outputs": [
    {
     "data": {
      "text/html": [
       "<div>\n",
       "<style scoped>\n",
       "    .dataframe tbody tr th:only-of-type {\n",
       "        vertical-align: middle;\n",
       "    }\n",
       "\n",
       "    .dataframe tbody tr th {\n",
       "        vertical-align: top;\n",
       "    }\n",
       "\n",
       "    .dataframe thead th {\n",
       "        text-align: right;\n",
       "    }\n",
       "</style>\n",
       "<table border=\"1\" class=\"dataframe\">\n",
       "  <thead>\n",
       "    <tr style=\"text-align: right;\">\n",
       "      <th></th>\n",
       "      <th>pop_cd</th>\n",
       "      <th>year</th>\n",
       "      <th>month</th>\n",
       "      <th>avg_score</th>\n",
       "      <th>avg_rat</th>\n",
       "      <th>city</th>\n",
       "      <th>sex</th>\n",
       "      <th>ages</th>\n",
       "      <th>population</th>\n",
       "      <th>num_opencard</th>\n",
       "      <th>...</th>\n",
       "      <th>monthly_installments_loan</th>\n",
       "      <th>monthly_insurance_loan</th>\n",
       "      <th>monthly_sbk_loan</th>\n",
       "      <th>loan_commitment</th>\n",
       "      <th>inst_rep_loanb</th>\n",
       "      <th>ls_rep_loanb</th>\n",
       "      <th>credit_loan</th>\n",
       "      <th>mortgage_loan</th>\n",
       "      <th>credit_card_payment</th>\n",
       "      <th>credit_card_installments_payment</th>\n",
       "    </tr>\n",
       "  </thead>\n",
       "  <tbody>\n",
       "    <tr>\n",
       "      <th>0</th>\n",
       "      <td>L011</td>\n",
       "      <td>2016</td>\n",
       "      <td>1</td>\n",
       "      <td>812</td>\n",
       "      <td>2</td>\n",
       "      <td>서울</td>\n",
       "      <td>NaN</td>\n",
       "      <td>10대</td>\n",
       "      <td>55000</td>\n",
       "      <td>1.44</td>\n",
       "      <td>...</td>\n",
       "      <td>0</td>\n",
       "      <td>0</td>\n",
       "      <td>0</td>\n",
       "      <td>1120000</td>\n",
       "      <td>8210000</td>\n",
       "      <td>78020000</td>\n",
       "      <td>92170000</td>\n",
       "      <td>87260000</td>\n",
       "      <td>0</td>\n",
       "      <td>0</td>\n",
       "    </tr>\n",
       "    <tr>\n",
       "      <th>1</th>\n",
       "      <td>L011</td>\n",
       "      <td>2016</td>\n",
       "      <td>2</td>\n",
       "      <td>773</td>\n",
       "      <td>4</td>\n",
       "      <td>서울</td>\n",
       "      <td>NaN</td>\n",
       "      <td>10대</td>\n",
       "      <td>380000</td>\n",
       "      <td>1.71</td>\n",
       "      <td>...</td>\n",
       "      <td>510000</td>\n",
       "      <td>220000</td>\n",
       "      <td>1020000</td>\n",
       "      <td>680000</td>\n",
       "      <td>4660000</td>\n",
       "      <td>23300000</td>\n",
       "      <td>8260000</td>\n",
       "      <td>42410000</td>\n",
       "      <td>4000</td>\n",
       "      <td>1000</td>\n",
       "    </tr>\n",
       "    <tr>\n",
       "      <th>2</th>\n",
       "      <td>L011</td>\n",
       "      <td>2016</td>\n",
       "      <td>3</td>\n",
       "      <td>771</td>\n",
       "      <td>4</td>\n",
       "      <td>서울</td>\n",
       "      <td>NaN</td>\n",
       "      <td>10대</td>\n",
       "      <td>387000</td>\n",
       "      <td>1.75</td>\n",
       "      <td>...</td>\n",
       "      <td>490000</td>\n",
       "      <td>210000</td>\n",
       "      <td>1140000</td>\n",
       "      <td>640000</td>\n",
       "      <td>4370000</td>\n",
       "      <td>22930000</td>\n",
       "      <td>8300000</td>\n",
       "      <td>41710000</td>\n",
       "      <td>3000</td>\n",
       "      <td>1000</td>\n",
       "    </tr>\n",
       "    <tr>\n",
       "      <th>3</th>\n",
       "      <td>L011</td>\n",
       "      <td>2016</td>\n",
       "      <td>4</td>\n",
       "      <td>770</td>\n",
       "      <td>4</td>\n",
       "      <td>서울</td>\n",
       "      <td>NaN</td>\n",
       "      <td>10대</td>\n",
       "      <td>412000</td>\n",
       "      <td>1.76</td>\n",
       "      <td>...</td>\n",
       "      <td>510000</td>\n",
       "      <td>240000</td>\n",
       "      <td>1340000</td>\n",
       "      <td>510000</td>\n",
       "      <td>4770000</td>\n",
       "      <td>22160000</td>\n",
       "      <td>9460000</td>\n",
       "      <td>41040000</td>\n",
       "      <td>4000</td>\n",
       "      <td>1000</td>\n",
       "    </tr>\n",
       "    <tr>\n",
       "      <th>4</th>\n",
       "      <td>L011</td>\n",
       "      <td>2016</td>\n",
       "      <td>5</td>\n",
       "      <td>771</td>\n",
       "      <td>4</td>\n",
       "      <td>서울</td>\n",
       "      <td>NaN</td>\n",
       "      <td>10대</td>\n",
       "      <td>414000</td>\n",
       "      <td>1.75</td>\n",
       "      <td>...</td>\n",
       "      <td>490000</td>\n",
       "      <td>340000</td>\n",
       "      <td>1490000</td>\n",
       "      <td>640000</td>\n",
       "      <td>4740000</td>\n",
       "      <td>21960000</td>\n",
       "      <td>9660000</td>\n",
       "      <td>40850000</td>\n",
       "      <td>3000</td>\n",
       "      <td>1000</td>\n",
       "    </tr>\n",
       "  </tbody>\n",
       "</table>\n",
       "<p>5 rows × 26 columns</p>\n",
       "</div>"
      ],
      "text/plain": [
       "  pop_cd  year  month  avg_score  avg_rat city  sex ages  population  \\\n",
       "0   L011  2016      1        812        2   서울  NaN  10대       55000   \n",
       "1   L011  2016      2        773        4   서울  NaN  10대      380000   \n",
       "2   L011  2016      3        771        4   서울  NaN  10대      387000   \n",
       "3   L011  2016      4        770        4   서울  NaN  10대      412000   \n",
       "4   L011  2016      5        771        4   서울  NaN  10대      414000   \n",
       "\n",
       "   num_opencard  ...  monthly_installments_loan  monthly_insurance_loan  \\\n",
       "0          1.44  ...                          0                       0   \n",
       "1          1.71  ...                     510000                  220000   \n",
       "2          1.75  ...                     490000                  210000   \n",
       "3          1.76  ...                     510000                  240000   \n",
       "4          1.75  ...                     490000                  340000   \n",
       "\n",
       "   monthly_sbk_loan  loan_commitment  inst_rep_loanb  ls_rep_loanb  \\\n",
       "0                 0          1120000         8210000      78020000   \n",
       "1           1020000           680000         4660000      23300000   \n",
       "2           1140000           640000         4370000      22930000   \n",
       "3           1340000           510000         4770000      22160000   \n",
       "4           1490000           640000         4740000      21960000   \n",
       "\n",
       "   credit_loan  mortgage_loan  credit_card_payment  \\\n",
       "0     92170000       87260000                    0   \n",
       "1      8260000       42410000                 4000   \n",
       "2      8300000       41710000                 3000   \n",
       "3      9460000       41040000                 4000   \n",
       "4      9660000       40850000                 3000   \n",
       "\n",
       "   credit_card_installments_payment  \n",
       "0                                 0  \n",
       "1                              1000  \n",
       "2                              1000  \n",
       "3                              1000  \n",
       "4                              1000  \n",
       "\n",
       "[5 rows x 26 columns]"
      ]
     },
     "execution_count": 2,
     "metadata": {},
     "output_type": "execute_result"
    }
   ],
   "source": [
    "df = pd.read_csv(\"credit_card_data.csv\")\n",
    "df.head()"
   ]
  },
  {
   "cell_type": "code",
   "execution_count": 3,
   "metadata": {},
   "outputs": [
    {
     "data": {
      "text/html": [
       "<div>\n",
       "<style scoped>\n",
       "    .dataframe tbody tr th:only-of-type {\n",
       "        vertical-align: middle;\n",
       "    }\n",
       "\n",
       "    .dataframe tbody tr th {\n",
       "        vertical-align: top;\n",
       "    }\n",
       "\n",
       "    .dataframe thead th {\n",
       "        text-align: right;\n",
       "    }\n",
       "</style>\n",
       "<table border=\"1\" class=\"dataframe\">\n",
       "  <thead>\n",
       "    <tr style=\"text-align: right;\">\n",
       "      <th></th>\n",
       "      <th>pop_cd</th>\n",
       "      <th>year</th>\n",
       "      <th>month</th>\n",
       "      <th>avg_score</th>\n",
       "      <th>avg_rat</th>\n",
       "      <th>city</th>\n",
       "      <th>sex</th>\n",
       "      <th>ages</th>\n",
       "      <th>population</th>\n",
       "      <th>num_opencard</th>\n",
       "      <th>...</th>\n",
       "      <th>monthly_installments_loan</th>\n",
       "      <th>monthly_insurance_loan</th>\n",
       "      <th>monthly_sbk_loan</th>\n",
       "      <th>loan_commitment</th>\n",
       "      <th>inst_rep_loanb</th>\n",
       "      <th>ls_rep_loanb</th>\n",
       "      <th>credit_loan</th>\n",
       "      <th>mortgage_loan</th>\n",
       "      <th>credit_card_payment</th>\n",
       "      <th>credit_card_installments_payment</th>\n",
       "    </tr>\n",
       "  </thead>\n",
       "  <tbody>\n",
       "    <tr>\n",
       "      <th>3883</th>\n",
       "      <td>Y95</td>\n",
       "      <td>2017</td>\n",
       "      <td>8</td>\n",
       "      <td>819</td>\n",
       "      <td>3</td>\n",
       "      <td>NaN</td>\n",
       "      <td>여자</td>\n",
       "      <td>90대</td>\n",
       "      <td>232000</td>\n",
       "      <td>0.11</td>\n",
       "      <td>...</td>\n",
       "      <td>40000</td>\n",
       "      <td>840000</td>\n",
       "      <td>450000</td>\n",
       "      <td>7290000</td>\n",
       "      <td>21340000</td>\n",
       "      <td>57900000</td>\n",
       "      <td>26130000</td>\n",
       "      <td>98590000</td>\n",
       "      <td>36000</td>\n",
       "      <td>11000</td>\n",
       "    </tr>\n",
       "    <tr>\n",
       "      <th>3884</th>\n",
       "      <td>Y95</td>\n",
       "      <td>2017</td>\n",
       "      <td>9</td>\n",
       "      <td>819</td>\n",
       "      <td>3</td>\n",
       "      <td>NaN</td>\n",
       "      <td>여자</td>\n",
       "      <td>90대</td>\n",
       "      <td>235000</td>\n",
       "      <td>0.11</td>\n",
       "      <td>...</td>\n",
       "      <td>400000</td>\n",
       "      <td>840000</td>\n",
       "      <td>430000</td>\n",
       "      <td>7110000</td>\n",
       "      <td>21710000</td>\n",
       "      <td>57910000</td>\n",
       "      <td>30360000</td>\n",
       "      <td>99110000</td>\n",
       "      <td>36000</td>\n",
       "      <td>8000</td>\n",
       "    </tr>\n",
       "    <tr>\n",
       "      <th>3885</th>\n",
       "      <td>Y95</td>\n",
       "      <td>2017</td>\n",
       "      <td>10</td>\n",
       "      <td>819</td>\n",
       "      <td>3</td>\n",
       "      <td>NaN</td>\n",
       "      <td>여자</td>\n",
       "      <td>90대</td>\n",
       "      <td>239000</td>\n",
       "      <td>0.11</td>\n",
       "      <td>...</td>\n",
       "      <td>1190000</td>\n",
       "      <td>790000</td>\n",
       "      <td>450000</td>\n",
       "      <td>6950000</td>\n",
       "      <td>21720000</td>\n",
       "      <td>57370000</td>\n",
       "      <td>32470000</td>\n",
       "      <td>98340000</td>\n",
       "      <td>36000</td>\n",
       "      <td>12000</td>\n",
       "    </tr>\n",
       "    <tr>\n",
       "      <th>3886</th>\n",
       "      <td>Y95</td>\n",
       "      <td>2017</td>\n",
       "      <td>11</td>\n",
       "      <td>819</td>\n",
       "      <td>3</td>\n",
       "      <td>NaN</td>\n",
       "      <td>여자</td>\n",
       "      <td>90대</td>\n",
       "      <td>243000</td>\n",
       "      <td>0.11</td>\n",
       "      <td>...</td>\n",
       "      <td>1230000</td>\n",
       "      <td>860000</td>\n",
       "      <td>580000</td>\n",
       "      <td>6850000</td>\n",
       "      <td>21700000</td>\n",
       "      <td>57300000</td>\n",
       "      <td>33480000</td>\n",
       "      <td>97520000</td>\n",
       "      <td>32000</td>\n",
       "      <td>11000</td>\n",
       "    </tr>\n",
       "    <tr>\n",
       "      <th>3887</th>\n",
       "      <td>Y95</td>\n",
       "      <td>2017</td>\n",
       "      <td>12</td>\n",
       "      <td>820</td>\n",
       "      <td>3</td>\n",
       "      <td>NaN</td>\n",
       "      <td>여자</td>\n",
       "      <td>90대</td>\n",
       "      <td>265000</td>\n",
       "      <td>0.11</td>\n",
       "      <td>...</td>\n",
       "      <td>1180000</td>\n",
       "      <td>930000</td>\n",
       "      <td>470000</td>\n",
       "      <td>6480000</td>\n",
       "      <td>21260000</td>\n",
       "      <td>58840000</td>\n",
       "      <td>32800000</td>\n",
       "      <td>98500000</td>\n",
       "      <td>35000</td>\n",
       "      <td>10000</td>\n",
       "    </tr>\n",
       "  </tbody>\n",
       "</table>\n",
       "<p>5 rows × 26 columns</p>\n",
       "</div>"
      ],
      "text/plain": [
       "     pop_cd  year  month  avg_score  avg_rat city sex ages  population  \\\n",
       "3883    Y95  2017      8        819        3  NaN  여자  90대      232000   \n",
       "3884    Y95  2017      9        819        3  NaN  여자  90대      235000   \n",
       "3885    Y95  2017     10        819        3  NaN  여자  90대      239000   \n",
       "3886    Y95  2017     11        819        3  NaN  여자  90대      243000   \n",
       "3887    Y95  2017     12        820        3  NaN  여자  90대      265000   \n",
       "\n",
       "      num_opencard  ...  monthly_installments_loan  monthly_insurance_loan  \\\n",
       "3883          0.11  ...                      40000                  840000   \n",
       "3884          0.11  ...                     400000                  840000   \n",
       "3885          0.11  ...                    1190000                  790000   \n",
       "3886          0.11  ...                    1230000                  860000   \n",
       "3887          0.11  ...                    1180000                  930000   \n",
       "\n",
       "      monthly_sbk_loan  loan_commitment  inst_rep_loanb  ls_rep_loanb  \\\n",
       "3883            450000          7290000        21340000      57900000   \n",
       "3884            430000          7110000        21710000      57910000   \n",
       "3885            450000          6950000        21720000      57370000   \n",
       "3886            580000          6850000        21700000      57300000   \n",
       "3887            470000          6480000        21260000      58840000   \n",
       "\n",
       "      credit_loan  mortgage_loan  credit_card_payment  \\\n",
       "3883     26130000       98590000                36000   \n",
       "3884     30360000       99110000                36000   \n",
       "3885     32470000       98340000                36000   \n",
       "3886     33480000       97520000                32000   \n",
       "3887     32800000       98500000                35000   \n",
       "\n",
       "      credit_card_installments_payment  \n",
       "3883                             11000  \n",
       "3884                              8000  \n",
       "3885                             12000  \n",
       "3886                             11000  \n",
       "3887                             10000  \n",
       "\n",
       "[5 rows x 26 columns]"
      ]
     },
     "execution_count": 3,
     "metadata": {},
     "output_type": "execute_result"
    }
   ],
   "source": [
    "df.tail()"
   ]
  },
  {
   "cell_type": "code",
   "execution_count": 12,
   "metadata": {},
   "outputs": [
    {
     "data": {
      "text/plain": [
       "pop_cd                               object\n",
       "year                                  int64\n",
       "month                                 int64\n",
       "avg_score                             int64\n",
       "avg_rat                               int64\n",
       "city                                 object\n",
       "sex                                  object\n",
       "ages                                 object\n",
       "population                            int64\n",
       "num_opencard                        float64\n",
       "num_usecard                         float64\n",
       "monthly_card_spend                    int64\n",
       "monthly_lc                            int64\n",
       "monthly_loan                          int64\n",
       "monthly_bk_loan                       int64\n",
       "monthly_cd_loan                       int64\n",
       "monthly_installments_loan             int64\n",
       "monthly_insurance_loan                int64\n",
       "monthly_sbk_loan                      int64\n",
       "loan_commitment                       int64\n",
       "inst_rep_loanb                        int64\n",
       "ls_rep_loanb                          int64\n",
       "credit_loan                           int64\n",
       "mortgage_loan                         int64\n",
       "credit_card_payment                   int64\n",
       "credit_card_installments_payment      int64\n",
       "dtype: object"
      ]
     },
     "execution_count": 12,
     "metadata": {},
     "output_type": "execute_result"
    }
   ],
   "source": [
    "df.dtypes"
   ]
  },
  {
   "cell_type": "code",
   "execution_count": 4,
   "metadata": {},
   "outputs": [
    {
     "data": {
      "text/html": [
       "<div>\n",
       "<style scoped>\n",
       "    .dataframe tbody tr th:only-of-type {\n",
       "        vertical-align: middle;\n",
       "    }\n",
       "\n",
       "    .dataframe tbody tr th {\n",
       "        vertical-align: top;\n",
       "    }\n",
       "\n",
       "    .dataframe thead th {\n",
       "        text-align: right;\n",
       "    }\n",
       "</style>\n",
       "<table border=\"1\" class=\"dataframe\">\n",
       "  <thead>\n",
       "    <tr style=\"text-align: right;\">\n",
       "      <th></th>\n",
       "      <th>year</th>\n",
       "      <th>month</th>\n",
       "      <th>avg_score</th>\n",
       "      <th>avg_rat</th>\n",
       "      <th>population</th>\n",
       "      <th>num_opencard</th>\n",
       "      <th>num_usecard</th>\n",
       "      <th>monthly_card_spend</th>\n",
       "      <th>monthly_lc</th>\n",
       "      <th>monthly_loan</th>\n",
       "      <th>...</th>\n",
       "      <th>monthly_installments_loan</th>\n",
       "      <th>monthly_insurance_loan</th>\n",
       "      <th>monthly_sbk_loan</th>\n",
       "      <th>loan_commitment</th>\n",
       "      <th>inst_rep_loanb</th>\n",
       "      <th>ls_rep_loanb</th>\n",
       "      <th>credit_loan</th>\n",
       "      <th>mortgage_loan</th>\n",
       "      <th>credit_card_payment</th>\n",
       "      <th>credit_card_installments_payment</th>\n",
       "    </tr>\n",
       "  </thead>\n",
       "  <tbody>\n",
       "    <tr>\n",
       "      <th>count</th>\n",
       "      <td>3888.000000</td>\n",
       "      <td>3888.000000</td>\n",
       "      <td>3888.000000</td>\n",
       "      <td>3888.000000</td>\n",
       "      <td>3.888000e+03</td>\n",
       "      <td>3888.000000</td>\n",
       "      <td>3888.000000</td>\n",
       "      <td>3.888000e+03</td>\n",
       "      <td>3.888000e+03</td>\n",
       "      <td>3.888000e+03</td>\n",
       "      <td>...</td>\n",
       "      <td>3.888000e+03</td>\n",
       "      <td>3.888000e+03</td>\n",
       "      <td>3.888000e+03</td>\n",
       "      <td>3.888000e+03</td>\n",
       "      <td>3.888000e+03</td>\n",
       "      <td>3.888000e+03</td>\n",
       "      <td>3.888000e+03</td>\n",
       "      <td>3.888000e+03</td>\n",
       "      <td>3.888000e+03</td>\n",
       "      <td>3888.000000</td>\n",
       "    </tr>\n",
       "    <tr>\n",
       "      <th>mean</th>\n",
       "      <td>2016.500000</td>\n",
       "      <td>6.500000</td>\n",
       "      <td>801.297325</td>\n",
       "      <td>3.246914</td>\n",
       "      <td>5.878032e+05</td>\n",
       "      <td>2.332796</td>\n",
       "      <td>1.279462</td>\n",
       "      <td>8.232536e+05</td>\n",
       "      <td>7.005477e+07</td>\n",
       "      <td>5.993902e+07</td>\n",
       "      <td>...</td>\n",
       "      <td>2.401780e+06</td>\n",
       "      <td>1.674465e+06</td>\n",
       "      <td>8.476929e+05</td>\n",
       "      <td>1.098907e+07</td>\n",
       "      <td>1.892440e+07</td>\n",
       "      <td>2.902791e+07</td>\n",
       "      <td>1.993650e+07</td>\n",
       "      <td>7.703108e+07</td>\n",
       "      <td>4.199642e+05</td>\n",
       "      <td>141464.506173</td>\n",
       "    </tr>\n",
       "    <tr>\n",
       "      <th>std</th>\n",
       "      <td>0.500064</td>\n",
       "      <td>3.452497</td>\n",
       "      <td>22.924493</td>\n",
       "      <td>0.443042</td>\n",
       "      <td>1.051777e+06</td>\n",
       "      <td>1.389002</td>\n",
       "      <td>0.761102</td>\n",
       "      <td>6.207234e+05</td>\n",
       "      <td>3.134869e+07</td>\n",
       "      <td>2.706806e+07</td>\n",
       "      <td>...</td>\n",
       "      <td>1.773271e+06</td>\n",
       "      <td>1.413189e+06</td>\n",
       "      <td>7.746605e+05</td>\n",
       "      <td>6.303980e+06</td>\n",
       "      <td>1.102648e+07</td>\n",
       "      <td>1.561675e+07</td>\n",
       "      <td>8.856546e+06</td>\n",
       "      <td>3.470092e+07</td>\n",
       "      <td>3.724923e+05</td>\n",
       "      <td>115444.741416</td>\n",
       "    </tr>\n",
       "    <tr>\n",
       "      <th>min</th>\n",
       "      <td>2016.000000</td>\n",
       "      <td>1.000000</td>\n",
       "      <td>726.000000</td>\n",
       "      <td>2.000000</td>\n",
       "      <td>2.000000e+03</td>\n",
       "      <td>0.090000</td>\n",
       "      <td>0.020000</td>\n",
       "      <td>2.000000e+04</td>\n",
       "      <td>3.500000e+06</td>\n",
       "      <td>3.500000e+06</td>\n",
       "      <td>...</td>\n",
       "      <td>0.000000e+00</td>\n",
       "      <td>0.000000e+00</td>\n",
       "      <td>0.000000e+00</td>\n",
       "      <td>0.000000e+00</td>\n",
       "      <td>0.000000e+00</td>\n",
       "      <td>2.020000e+06</td>\n",
       "      <td>0.000000e+00</td>\n",
       "      <td>3.500000e+06</td>\n",
       "      <td>0.000000e+00</td>\n",
       "      <td>0.000000</td>\n",
       "    </tr>\n",
       "    <tr>\n",
       "      <th>25%</th>\n",
       "      <td>2016.000000</td>\n",
       "      <td>3.750000</td>\n",
       "      <td>783.000000</td>\n",
       "      <td>3.000000</td>\n",
       "      <td>7.800000e+04</td>\n",
       "      <td>1.110000</td>\n",
       "      <td>0.620000</td>\n",
       "      <td>2.075000e+05</td>\n",
       "      <td>4.464000e+07</td>\n",
       "      <td>3.794250e+07</td>\n",
       "      <td>...</td>\n",
       "      <td>7.100000e+05</td>\n",
       "      <td>5.375000e+05</td>\n",
       "      <td>2.100000e+05</td>\n",
       "      <td>6.197500e+06</td>\n",
       "      <td>9.747500e+06</td>\n",
       "      <td>1.886000e+07</td>\n",
       "      <td>1.353000e+07</td>\n",
       "      <td>4.861750e+07</td>\n",
       "      <td>7.600000e+04</td>\n",
       "      <td>26750.000000</td>\n",
       "    </tr>\n",
       "    <tr>\n",
       "      <th>50%</th>\n",
       "      <td>2016.500000</td>\n",
       "      <td>6.500000</td>\n",
       "      <td>808.000000</td>\n",
       "      <td>3.000000</td>\n",
       "      <td>2.185000e+05</td>\n",
       "      <td>2.210000</td>\n",
       "      <td>1.330000</td>\n",
       "      <td>7.500000e+05</td>\n",
       "      <td>7.597000e+07</td>\n",
       "      <td>6.477500e+07</td>\n",
       "      <td>...</td>\n",
       "      <td>2.290000e+06</td>\n",
       "      <td>1.230000e+06</td>\n",
       "      <td>6.400000e+05</td>\n",
       "      <td>1.116000e+07</td>\n",
       "      <td>1.653500e+07</td>\n",
       "      <td>2.906000e+07</td>\n",
       "      <td>1.860500e+07</td>\n",
       "      <td>8.112500e+07</td>\n",
       "      <td>2.790000e+05</td>\n",
       "      <td>105000.000000</td>\n",
       "    </tr>\n",
       "    <tr>\n",
       "      <th>75%</th>\n",
       "      <td>2017.000000</td>\n",
       "      <td>9.250000</td>\n",
       "      <td>819.000000</td>\n",
       "      <td>4.000000</td>\n",
       "      <td>4.440000e+05</td>\n",
       "      <td>3.650000</td>\n",
       "      <td>1.950000</td>\n",
       "      <td>1.450000e+06</td>\n",
       "      <td>9.137500e+07</td>\n",
       "      <td>7.816000e+07</td>\n",
       "      <td>...</td>\n",
       "      <td>4.100000e+06</td>\n",
       "      <td>2.670000e+06</td>\n",
       "      <td>1.350000e+06</td>\n",
       "      <td>1.579250e+07</td>\n",
       "      <td>2.645000e+07</td>\n",
       "      <td>3.741000e+07</td>\n",
       "      <td>2.687000e+07</td>\n",
       "      <td>1.011700e+08</td>\n",
       "      <td>7.852500e+05</td>\n",
       "      <td>253000.000000</td>\n",
       "    </tr>\n",
       "    <tr>\n",
       "      <th>max</th>\n",
       "      <td>2017.000000</td>\n",
       "      <td>12.000000</td>\n",
       "      <td>850.000000</td>\n",
       "      <td>4.000000</td>\n",
       "      <td>5.160000e+06</td>\n",
       "      <td>5.170000</td>\n",
       "      <td>2.790000</td>\n",
       "      <td>2.300000e+06</td>\n",
       "      <td>1.817200e+08</td>\n",
       "      <td>1.658500e+08</td>\n",
       "      <td>...</td>\n",
       "      <td>5.960000e+06</td>\n",
       "      <td>6.980000e+06</td>\n",
       "      <td>4.350000e+06</td>\n",
       "      <td>2.800000e+07</td>\n",
       "      <td>4.891000e+07</td>\n",
       "      <td>1.106000e+08</td>\n",
       "      <td>9.217000e+07</td>\n",
       "      <td>1.830500e+08</td>\n",
       "      <td>1.367000e+06</td>\n",
       "      <td>402000.000000</td>\n",
       "    </tr>\n",
       "  </tbody>\n",
       "</table>\n",
       "<p>8 rows × 22 columns</p>\n",
       "</div>"
      ],
      "text/plain": [
       "              year        month    avg_score      avg_rat    population  \\\n",
       "count  3888.000000  3888.000000  3888.000000  3888.000000  3.888000e+03   \n",
       "mean   2016.500000     6.500000   801.297325     3.246914  5.878032e+05   \n",
       "std       0.500064     3.452497    22.924493     0.443042  1.051777e+06   \n",
       "min    2016.000000     1.000000   726.000000     2.000000  2.000000e+03   \n",
       "25%    2016.000000     3.750000   783.000000     3.000000  7.800000e+04   \n",
       "50%    2016.500000     6.500000   808.000000     3.000000  2.185000e+05   \n",
       "75%    2017.000000     9.250000   819.000000     4.000000  4.440000e+05   \n",
       "max    2017.000000    12.000000   850.000000     4.000000  5.160000e+06   \n",
       "\n",
       "       num_opencard  num_usecard  monthly_card_spend    monthly_lc  \\\n",
       "count   3888.000000  3888.000000        3.888000e+03  3.888000e+03   \n",
       "mean       2.332796     1.279462        8.232536e+05  7.005477e+07   \n",
       "std        1.389002     0.761102        6.207234e+05  3.134869e+07   \n",
       "min        0.090000     0.020000        2.000000e+04  3.500000e+06   \n",
       "25%        1.110000     0.620000        2.075000e+05  4.464000e+07   \n",
       "50%        2.210000     1.330000        7.500000e+05  7.597000e+07   \n",
       "75%        3.650000     1.950000        1.450000e+06  9.137500e+07   \n",
       "max        5.170000     2.790000        2.300000e+06  1.817200e+08   \n",
       "\n",
       "       monthly_loan  ...  monthly_installments_loan  monthly_insurance_loan  \\\n",
       "count  3.888000e+03  ...               3.888000e+03            3.888000e+03   \n",
       "mean   5.993902e+07  ...               2.401780e+06            1.674465e+06   \n",
       "std    2.706806e+07  ...               1.773271e+06            1.413189e+06   \n",
       "min    3.500000e+06  ...               0.000000e+00            0.000000e+00   \n",
       "25%    3.794250e+07  ...               7.100000e+05            5.375000e+05   \n",
       "50%    6.477500e+07  ...               2.290000e+06            1.230000e+06   \n",
       "75%    7.816000e+07  ...               4.100000e+06            2.670000e+06   \n",
       "max    1.658500e+08  ...               5.960000e+06            6.980000e+06   \n",
       "\n",
       "       monthly_sbk_loan  loan_commitment  inst_rep_loanb  ls_rep_loanb  \\\n",
       "count      3.888000e+03     3.888000e+03    3.888000e+03  3.888000e+03   \n",
       "mean       8.476929e+05     1.098907e+07    1.892440e+07  2.902791e+07   \n",
       "std        7.746605e+05     6.303980e+06    1.102648e+07  1.561675e+07   \n",
       "min        0.000000e+00     0.000000e+00    0.000000e+00  2.020000e+06   \n",
       "25%        2.100000e+05     6.197500e+06    9.747500e+06  1.886000e+07   \n",
       "50%        6.400000e+05     1.116000e+07    1.653500e+07  2.906000e+07   \n",
       "75%        1.350000e+06     1.579250e+07    2.645000e+07  3.741000e+07   \n",
       "max        4.350000e+06     2.800000e+07    4.891000e+07  1.106000e+08   \n",
       "\n",
       "        credit_loan  mortgage_loan  credit_card_payment  \\\n",
       "count  3.888000e+03   3.888000e+03         3.888000e+03   \n",
       "mean   1.993650e+07   7.703108e+07         4.199642e+05   \n",
       "std    8.856546e+06   3.470092e+07         3.724923e+05   \n",
       "min    0.000000e+00   3.500000e+06         0.000000e+00   \n",
       "25%    1.353000e+07   4.861750e+07         7.600000e+04   \n",
       "50%    1.860500e+07   8.112500e+07         2.790000e+05   \n",
       "75%    2.687000e+07   1.011700e+08         7.852500e+05   \n",
       "max    9.217000e+07   1.830500e+08         1.367000e+06   \n",
       "\n",
       "       credit_card_installments_payment  \n",
       "count                       3888.000000  \n",
       "mean                      141464.506173  \n",
       "std                       115444.741416  \n",
       "min                            0.000000  \n",
       "25%                        26750.000000  \n",
       "50%                       105000.000000  \n",
       "75%                       253000.000000  \n",
       "max                       402000.000000  \n",
       "\n",
       "[8 rows x 22 columns]"
      ]
     },
     "execution_count": 4,
     "metadata": {},
     "output_type": "execute_result"
    }
   ],
   "source": [
    "df.describe()"
   ]
  },
  {
   "cell_type": "code",
   "execution_count": 5,
   "metadata": {},
   "outputs": [
    {
     "name": "stdout",
     "output_type": "stream",
     "text": [
      "<class 'pandas.core.frame.DataFrame'>\n",
      "RangeIndex: 3888 entries, 0 to 3887\n",
      "Data columns (total 26 columns):\n",
      "pop_cd                              3888 non-null object\n",
      "year                                3888 non-null int64\n",
      "month                               3888 non-null int64\n",
      "avg_score                           3888 non-null int64\n",
      "avg_rat                             3888 non-null int64\n",
      "city                                3456 non-null object\n",
      "sex                                 432 non-null object\n",
      "ages                                3888 non-null object\n",
      "population                          3888 non-null int64\n",
      "num_opencard                        3888 non-null float64\n",
      "num_usecard                         3888 non-null float64\n",
      "monthly_card_spend                  3888 non-null int64\n",
      "monthly_lc                          3888 non-null int64\n",
      "monthly_loan                        3888 non-null int64\n",
      "monthly_bk_loan                     3888 non-null int64\n",
      "monthly_cd_loan                     3888 non-null int64\n",
      "monthly_installments_loan           3888 non-null int64\n",
      "monthly_insurance_loan              3888 non-null int64\n",
      "monthly_sbk_loan                    3888 non-null int64\n",
      "loan_commitment                     3888 non-null int64\n",
      "inst_rep_loanb                      3888 non-null int64\n",
      "ls_rep_loanb                        3888 non-null int64\n",
      "credit_loan                         3888 non-null int64\n",
      "mortgage_loan                       3888 non-null int64\n",
      "credit_card_payment                 3888 non-null int64\n",
      "credit_card_installments_payment    3888 non-null int64\n",
      "dtypes: float64(2), int64(20), object(4)\n",
      "memory usage: 789.8+ KB\n"
     ]
    }
   ],
   "source": [
    "df.info()"
   ]
  },
  {
   "cell_type": "code",
   "execution_count": 6,
   "metadata": {},
   "outputs": [
    {
     "data": {
      "text/plain": [
       "pop_cd                                 0\n",
       "year                                   0\n",
       "month                                  0\n",
       "avg_score                              0\n",
       "avg_rat                                0\n",
       "city                                 432\n",
       "sex                                 3456\n",
       "ages                                   0\n",
       "population                             0\n",
       "num_opencard                           0\n",
       "num_usecard                            0\n",
       "monthly_card_spend                     0\n",
       "monthly_lc                             0\n",
       "monthly_loan                           0\n",
       "monthly_bk_loan                        0\n",
       "monthly_cd_loan                        0\n",
       "monthly_installments_loan              0\n",
       "monthly_insurance_loan                 0\n",
       "monthly_sbk_loan                       0\n",
       "loan_commitment                        0\n",
       "inst_rep_loanb                         0\n",
       "ls_rep_loanb                           0\n",
       "credit_loan                            0\n",
       "mortgage_loan                          0\n",
       "credit_card_payment                    0\n",
       "credit_card_installments_payment       0\n",
       "dtype: int64"
      ]
     },
     "execution_count": 6,
     "metadata": {},
     "output_type": "execute_result"
    }
   ],
   "source": [
    "df.isnull().sum()\n",
    "# null값이 city와 sex에 존재"
   ]
  },
  {
   "cell_type": "markdown",
   "metadata": {},
   "source": [
    "# 일시불과 할부"
   ]
  },
  {
   "cell_type": "code",
   "execution_count": 7,
   "metadata": {
    "scrolled": true
   },
   "outputs": [
    {
     "name": "stdout",
     "output_type": "stream",
     "text": [
      "credit_card_payment                 1.000000\n",
      "monthly_card_spend                  0.985854\n",
      "credit_card_installments_payment    0.956857\n",
      "monthly_cd_loan                     0.933535\n",
      "num_usecard                         0.822457\n",
      "Name: credit_card_payment, dtype: float64\n",
      "**************************************************\n",
      "credit_card_installments_payment    1.000000\n",
      "credit_card_payment                 0.956857\n",
      "monthly_card_spend                  0.951698\n",
      "monthly_cd_loan                     0.933624\n",
      "monthly_insurance_loan              0.801585\n",
      "Name: credit_card_installments_payment, dtype: float64\n"
     ]
    }
   ],
   "source": [
    "# '신용카드 (일시불/할부) 이용금액의 합'을 target value로 선정하여 각 feature들 간의 corr을 구해 봄\n",
    "# 어떤 특징의 그룹이 일시불 혹은 할부를 이용하는지 알면 미래의 카드발급 고객에게 적합한 카드를 추천하는 서비스를 제공할 수 있음(예측)\n",
    "print(df.corr()['credit_card_payment'].sort_values(ascending=False).head())\n",
    "print('*'*50)\n",
    "print(df.corr()['credit_card_installments_payment'].sort_values(ascending=False).head())\n",
    "# num_usercard와 monthly_insurance_loan에서 차이가 존재"
   ]
  },
  {
   "cell_type": "code",
   "execution_count": 8,
   "metadata": {
    "scrolled": false
   },
   "outputs": [
    {
     "data": {
      "image/png": "[encoded data removed]",
      "text/plain": [
       "<Figure size 432x288 with 2 Axes>"
      ]
     },
     "metadata": {
      "needs_background": "light"
     },
     "output_type": "display_data"
    }
   ],
   "source": [
    "# '일시불과 실제 사용 카드 수', '할부와 보험업종 총 대출금액'이 상관관계가 있다.\n",
    "# 다시말해, 할부보다 일시불이 실제 사용 카드 수와 상관관계가 더 높고, 일시불보다 할부가 보험업종 총 대출금액과 상관관계가 더높다.\n",
    "# 추측컨대, 보험대출이 있으면 갚아야할 돈이 있기에 할부를 사용한다.\n",
    "fig = plt.figure()\n",
    "a = fig.add_subplot(1,2,1)\n",
    "b = fig.add_subplot(1,2,2)\n",
    "a.scatter(df['num_usecard'], df['credit_card_payment'])\n",
    "b.scatter(df['monthly_insurance_loan'], df['credit_card_installments_payment'])\n",
    "plt.show()"
   ]
  },
  {
   "cell_type": "markdown",
   "metadata": {},
   "source": [
    "# 봉영이 분석 추가"
   ]
  },
  {
   "cell_type": "code",
   "execution_count": 9,
   "metadata": {
    "scrolled": true
   },
   "outputs": [
    {
     "name": "stderr",
     "output_type": "stream",
     "text": [
      "C:\\Users\\user\\Anaconda3\\lib\\site-packages\\ipykernel_launcher.py:3: UserWarning: Boolean Series key will be reindexed to match DataFrame index.\n",
      "  This is separate from the ipykernel package so we can avoid doing imports until\n"
     ]
    },
    {
     "data": {
      "text/plain": [
       "<seaborn.axisgrid.FacetGrid at 0x2429ff84a20>"
      ]
     },
     "execution_count": 9,
     "metadata": {},
     "output_type": "execute_result"
    },
    {
     "data": {
      "image/png": "[encoded data removed]",
      "text/plain": [
       "<Figure size 414.625x360 with 1 Axes>"
      ]
     },
     "metadata": {
      "needs_background": "light"
     },
     "output_type": "display_data"
    }
   ],
   "source": [
    "df_by_sex = df[df.pop_cd.str[0]=='Y']\n",
    "df_by_loc = df[df.pop_cd.str[0]=='L']\n",
    "tmp_df_by_sex=df_by_sex[df['credit_card_payment']> 100000]\n",
    "\n",
    "sns.lmplot('credit_card_installments_payment','monthly_card_spend',data=tmp_df_by_sex, hue='ages') "
   ]
  },
  {
   "cell_type": "markdown",
   "metadata": {},
   "source": [
    "# seaborn"
   ]
  },
  {
   "cell_type": "code",
   "execution_count": 57,
   "metadata": {},
   "outputs": [
    {
     "data": {
      "image/png": "[encoded data removed]",
      "text/plain": [
       "<Figure size 432x288 with 1 Axes>"
      ]
     },
     "metadata": {},
     "output_type": "display_data"
    }
   ],
   "source": [
    "# mean\n",
    "# https://youtu.be/CPpv2qSsocM?list=PLE50-dh6JzC7X8VFX40yoIXnhctF2bR8F&t=673\n",
    "sns.set_style('whitegrid')\n",
    "barplot_year = sns.barplot(x='year', y='credit_card_payment', data=df)"
   ]
  },
  {
   "cell_type": "code",
   "execution_count": 58,
   "metadata": {},
   "outputs": [
    {
     "data": {
      "image/png": "[encoded data removed]",
      "text/plain": [
       "<Figure size 432x288 with 1 Axes>"
      ]
     },
     "metadata": {},
     "output_type": "display_data"
    }
   ],
   "source": [
    "# https://seaborn.pydata.org/generated/seaborn.barplot.html\n",
    "barplot_year_sex = sns.barplot(x='year', y='credit_card_payment', hue='sex', data=df)"
   ]
  },
  {
   "cell_type": "code",
   "execution_count": 60,
   "metadata": {},
   "outputs": [
    {
     "data": {
      "image/png": "[encoded data removed]",
      "text/plain": [
       "<Figure size 432x288 with 1 Axes>"
      ]
     },
     "metadata": {},
     "output_type": "display_data"
    }
   ],
   "source": [
    "# median\n",
    "from numpy import median\n",
    "barplot_year_sex = sns.barplot(x='year', y='credit_card_payment', data=df, estimator=median)"
   ]
  },
  {
   "cell_type": "code",
   "execution_count": 61,
   "metadata": {},
   "outputs": [
    {
     "data": {
      "image/png": "[encoded data removed]",
      "text/plain": [
       "<Figure size 432x288 with 1 Axes>"
      ]
     },
     "metadata": {},
     "output_type": "display_data"
    }
   ],
   "source": [
    "barplot_year_sex = sns.barplot(x='year', y='credit_card_payment', hue='sex', data=df, estimator=median)"
   ]
  },
  {
   "cell_type": "code",
   "execution_count": 22,
   "metadata": {},
   "outputs": [
    {
     "data": {
      "text/plain": [
       "year\n",
       "2016    395152.777778\n",
       "2017    444775.720165\n",
       "Name: credit_card_payment, dtype: float64"
      ]
     },
     "execution_count": 22,
     "metadata": {},
     "output_type": "execute_result"
    }
   ],
   "source": [
    "# https://pandas.pydata.org/pandas-docs/stable/reference/api/pandas.core.groupby.GroupBy.mean.html\n",
    "df.groupby('year')['credit_card_payment'].mean()"
   ]
  },
  {
   "cell_type": "markdown",
   "metadata": {},
   "source": [
    "# 경상도 - 진호파트"
   ]
  },
  {
   "cell_type": "code",
   "execution_count": 24,
   "metadata": {},
   "outputs": [
    {
     "data": {
      "text/plain": [
       "array(['서울', '인천', '대전', '대구', '광주', '부산', '울산', '경기', '강원', '충북', '충남',\n",
       "       '전북', '전남', '경북', '경남', '제주', nan], dtype=object)"
      ]
     },
     "execution_count": 24,
     "metadata": {},
     "output_type": "execute_result"
    }
   ],
   "source": [
    "df['city'].unique()"
   ]
  },
  {
   "cell_type": "code",
   "execution_count": 36,
   "metadata": {
    "collapsed": true
   },
   "outputs": [
    {
     "name": "stdout",
     "output_type": "stream",
     "text": [
      "일시불\n",
      "city\n",
      "서울    536814.814815\n",
      "제주    489245.370370\n",
      "경기    484967.592593\n",
      "대전    450949.074074\n",
      "광주    450000.000000\n",
      "울산    424995.370370\n",
      "부산    422398.148148\n",
      "인천    414745.370370\n",
      "대구    406888.888889\n",
      "강원    390662.037037\n",
      "충남    386240.740741\n",
      "전북    385328.703704\n",
      "충북    376490.740741\n",
      "경남    370490.740741\n",
      "경북    347736.111111\n",
      "전남    338101.851852\n",
      "Name: credit_card_payment, dtype: float64\n",
      "**************************************************\n",
      "할부\n",
      "city\n",
      "부산    168837.962963\n",
      "제주    159472.222222\n",
      "서울    158703.703704\n",
      "광주    155120.370370\n",
      "경기    153523.148148\n",
      "인천    148662.037037\n",
      "대전    145328.703704\n",
      "대구    140578.703704\n",
      "강원    140314.814815\n",
      "경남    138023.148148\n",
      "울산    137518.518519\n",
      "전북    129037.037037\n",
      "충북    122791.666667\n",
      "충남    121925.925926\n",
      "전남    120004.629630\n",
      "경북    116541.666667\n",
      "Name: credit_card_installments_payment, dtype: float64\n"
     ]
    }
   ],
   "source": [
    "print('일시불')\n",
    "print(df.groupby('city')['credit_card_payment'].mean().sort_values(ascending=False))\n",
    "print('*'*50)\n",
    "print('할부')\n",
    "print(df.groupby('city')['credit_card_installments_payment'].mean().sort_values(ascending=False))\n",
    "# card_payment가 city들 중 하위권임을 알 수 있다."
   ]
  },
  {
   "cell_type": "code",
   "execution_count": 38,
   "metadata": {},
   "outputs": [
    {
     "data": {
      "text/plain": [
       "array(['10대', '20대', '30대', '40대', '50대', '60대', '70대', '80대', '90대'],\n",
       "      dtype=object)"
      ]
     },
     "execution_count": 38,
     "metadata": {},
     "output_type": "execute_result"
    }
   ],
   "source": [
    "# city별 ages별 payment를 구해보자.\n",
    "df['ages'].unique()"
   ]
  },
  {
   "cell_type": "code",
   "execution_count": 49,
   "metadata": {},
   "outputs": [],
   "source": [
    "# https://cmdlinetips.com/2018/02/how-to-subset-pandas-dataframe-based-on-values-of-a-column/\n",
    "경북 = df[df['city'] == '경북']\n",
    "경남 = df[df['city'] == '경남']"
   ]
  },
  {
   "cell_type": "code",
   "execution_count": 56,
   "metadata": {},
   "outputs": [
    {
     "name": "stdout",
     "output_type": "stream",
     "text": [
      "경상북도 일시불과 할부\n",
      "ages\n",
      "40대    858250.000000\n",
      "30대    769958.333333\n",
      "50대    663541.666667\n",
      "60대    408541.666667\n",
      "20대    228458.333333\n",
      "70대    151000.000000\n",
      "80대     33791.666667\n",
      "90대     13208.333333\n",
      "10대      2875.000000\n",
      "Name: credit_card_payment, dtype: float64\n",
      "ages\n",
      "40대    280625.000000\n",
      "50대    249250.000000\n",
      "30대    216333.333333\n",
      "60대    153125.000000\n",
      "20대     74916.666667\n",
      "70대     56958.333333\n",
      "80대     13958.333333\n",
      "90대      2666.666667\n",
      "10대      1041.666667\n",
      "Name: credit_card_installments_payment, dtype: float64\n",
      "********************************************************************************\n",
      "경상남도 일시불과 할부\n",
      "ages\n",
      "40대    921000.000000\n",
      "30대    814125.000000\n",
      "50대    704458.333333\n",
      "60대    431458.333333\n",
      "20대    230583.333333\n",
      "70대    173041.666667\n",
      "80대     44583.333333\n",
      "90대     12416.666667\n",
      "10대      2750.000000\n",
      "Name: credit_card_payment, dtype: float64\n",
      "ages\n",
      "40대    314833.333333\n",
      "50대    298041.666667\n",
      "30대    240041.666667\n",
      "60대    195833.333333\n",
      "70대     84750.000000\n",
      "20대     79916.666667\n",
      "80대     21416.666667\n",
      "90대      6333.333333\n",
      "10대      1041.666667\n",
      "Name: credit_card_installments_payment, dtype: float64\n"
     ]
    }
   ],
   "source": [
    "print('경상북도 일시불과 할부')\n",
    "print(경북.groupby('ages')['credit_card_payment'].mean().sort_values(ascending=False))\n",
    "print(경북.groupby('ages')['credit_card_installments_payment'].mean().sort_values(ascending=False))\n",
    "print('*'*80)\n",
    "print('경상남도 일시불과 할부')\n",
    "print(경남.groupby('ages')['credit_card_payment'].mean().sort_values(ascending=False))\n",
    "print(경남.groupby('ages')['credit_card_installments_payment'].mean().sort_values(ascending=False))\n",
    "# 나이별 유의미한 특징은 없는 것 같다.\n",
    "# 30-50대가 카드 사용이 많다.\n",
    "# 10대, 70-90대는 카드 사용이 적다."
   ]
  },
  {
   "cell_type": "code",
   "execution_count": null,
   "metadata": {},
   "outputs": [],
   "source": []
  },
  {
   "cell_type": "code",
   "execution_count": null,
   "metadata": {},
   "outputs": [],
   "source": []
  },
  {
   "cell_type": "code",
   "execution_count": null,
   "metadata": {},
   "outputs": [],
   "source": []
  },
  {
   "cell_type": "code",
   "execution_count": null,
   "metadata": {},
   "outputs": [],
   "source": []
  },
  {
   "cell_type": "code",
   "execution_count": null,
   "metadata": {},
   "outputs": [],
   "source": []
  }
 ],
 "metadata": {
  "kernelspec": {
   "display_name": "Python 3",
   "language": "python",
   "name": "python3"
  },
  "language_info": {
   "codemirror_mode": {
    "name": "ipython",
    "version": 3
   },
   "file_extension": ".py",
   "mimetype": "text/x-python",
   "name": "python",
   "nbconvert_exporter": "python",
   "pygments_lexer": "ipython3",
   "version": "3.7.3"
  }
 },
 "nbformat": 4,
 "nbformat_minor": 2
}
